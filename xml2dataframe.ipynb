{
 "cells": [
  {
   "cell_type": "code",
   "execution_count": 9,
   "id": "9c127fa1-7b16-40e8-903e-4887197da9ae",
   "metadata": {},
   "outputs": [],
   "source": [
    "import pandas as pd\n",
    "import xml.etree.ElementTree as et\n",
    "\n",
    "def transform_xml(xml_doc):\n",
    "    attr = xml_doc.attrib\n",
    "    for xml in xml_doc.iter('row'):\n",
    "        dict = attr.copy()\n",
    "        dict.update(xml.attrib)\n",
    "        \n",
    "        yield dict\n",
    "        \n",
    "etree = et.parse('Tags.xml')\n",
    "eroot = etree.getroot()\n",
    "\n",
    "trans = transform_xml(eroot)\n",
    "\n",
    "# use this to transform XML into a Pandas Dataframe\n",
    "tr_df = pd.DataFrame(list(trans))"
   ]
  },
  {
   "cell_type": "code",
   "execution_count": 10,
   "id": "8c152cd5-3c74-47f1-90ad-006eb8c025ff",
   "metadata": {},
   "outputs": [
    {
     "data": {
      "text/plain": [
       "(854, 5)"
      ]
     },
     "execution_count": 10,
     "metadata": {},
     "output_type": "execute_result"
    }
   ],
   "source": [
    "# Returns the number of rows and columns\n",
    "tr_df.shape"
   ]
  },
  {
   "cell_type": "code",
   "execution_count": null,
   "id": "16da4dee-34ec-4fc4-9c03-924eb53f8efe",
   "metadata": {},
   "outputs": [],
   "source": [
    "# Returns the DataFrame table\n",
    "tr_df"
   ]
  },
  {
   "cell_type": "code",
   "execution_count": 13,
   "id": "aa93ed33-34a3-4af0-9031-daed65209024",
   "metadata": {},
   "outputs": [],
   "source": [
    "tr_df.to_csv('out.csv', index=False)"
   ]
  },
  {
   "cell_type": "markdown",
   "id": "48cf62ed-00ed-499e-941f-3f390d429728",
   "metadata": {},
   "source": [
    "Instructions on how to export to a datbase can be found here:\n",
    "https://pandas.pydata.org/docs/reference/api/pandas.DataFrame.to_sql.html\n",
    "\n",
    "I would like to figure out how to read and write from a Cloud Storage Bucket or a remote file on a server to speed this up"
   ]
  },
  {
   "cell_type": "markdown",
   "id": "1929788d-eb3b-475b-b5e0-6f9a10e7025b",
   "metadata": {},
   "source": []
  }
 ],
 "metadata": {
  "kernelspec": {
   "display_name": "Python [conda env:root] * (Local)",
   "language": "python",
   "name": "local-conda-root-base"
  },
  "language_info": {
   "codemirror_mode": {
    "name": "ipython",
    "version": 3
   },
   "file_extension": ".py",
   "mimetype": "text/x-python",
   "name": "python",
   "nbconvert_exporter": "python",
   "pygments_lexer": "ipython3",
   "version": "3.7.12"
  }
 },
 "nbformat": 4,
 "nbformat_minor": 5
}
